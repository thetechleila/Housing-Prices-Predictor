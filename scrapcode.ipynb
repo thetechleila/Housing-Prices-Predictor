{
 "cells": [
  {
   "cell_type": "code",
   "execution_count": null,
   "metadata": {},
   "outputs": [],
   "source": []
  },
  {
   "cell_type": "markdown",
   "metadata": {},
   "source": [
    "## Description of Numeric Features\n",
    "\n",
    "**SalePrice:** The property's sale price in dollars. This is the target variable that this project aims to predict.\n",
    "\n",
    "* **MSSubClass**: The building class\n",
    "* **LotFrontage**: Linear feet of street connected to property\n",
    "* **LotArea**: Lot size in square feet\n",
    "* **Street**: Type of road access\n",
    "* **OverallQual**: Overall material and finish quality\n",
    "* **OverallCond**: Overall condition rating\n",
    "* **YearBuilt**: Original construction date\n",
    "* **YearRemodAdd**: Remodel date\n",
    "* **MasVnrArea**: Masonry veneer area in square feet\n",
    "* **BsmtFinSF1**: Type 1 finished square feet\n",
    "* **BsmtFinSF2**: Type 2 finished square feet\n",
    "* **BsmtUnfSF**: Unfinished square feet of basement area\n",
    "* **TotalBsmtSF**: Total square feet of basement area\n",
    "* **1stFlrSF**: First Floor square feet\n",
    "* **2ndFlrSF**: Second floor square feet\n",
    "* **LowQualFinSF**: Low quality finished square feet (all floors)\n",
    "* **GrLivArea**: Above grade (ground) living area square feet\n",
    "* **BsmtFullBath**: Basement full bathrooms\n",
    "* **BsmtHalfBath**: Basement half bathrooms\n",
    "* **FullBath**: Full bathrooms above grade\n",
    "* **HalfBath**: Half baths above grade\n",
    "* **Bedroom**: Number of bedrooms above basement level\n",
    "* **Kitchen**: Number of kitchens\n",
    "* **TotRmsAbvGrd**: Total rooms above grade (does not include bathrooms)\n",
    "* **Fireplaces**: Number of fireplaces\n",
    "* **GarageYrBlt**: Year garage was built\n",
    "* **GarageFinish**: Interior finish of the garage\n",
    "* **GarageCars**: Size of garage in car capacity\n",
    "* **GarageArea**: Size of garage in square feet\n",
    "* **WoodDeckSF**: Wood deck area in square feet\n",
    "* **OpenPorchSF**: Open porch area in square feet\n",
    "* **EnclosedPorch**: Enclosed porch area in square feet\n",
    "* **3SsnPorch**: Three season porch area in square feet\n",
    "* **ScreenPorch**: Screen porch area in square feet\n",
    "* **PoolArea**: Pool area in square feet\n",
    "* **MiscVal**: Value of miscellaneous feature\n",
    "* **MoSold**: Month Sold\n",
    "* **YrSold**: Year Sold"
   ]
  }
 ],
 "metadata": {
  "language_info": {
   "name": "python"
  }
 },
 "nbformat": 4,
 "nbformat_minor": 2
}
